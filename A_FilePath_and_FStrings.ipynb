{
 "cells": [
  {
   "cell_type": "code",
   "execution_count": 4,
   "metadata": {},
   "outputs": [],
   "source": [
    "from PIL import Image\n",
    "import numpy as np"
   ]
  },
  {
   "cell_type": "code",
   "execution_count": 24,
   "metadata": {},
   "outputs": [],
   "source": [
    "img_name='DSC_7476'"
   ]
  },
  {
   "cell_type": "code",
   "execution_count": null,
   "metadata": {},
   "outputs": [],
   "source": [
    "data_img = np.asarray(Image.open(f'{img_name}.jpg'))"
   ]
  },
  {
   "cell_type": "code",
   "execution_count": 14,
   "metadata": {},
   "outputs": [],
   "source": [
    "d=np.asarray(Image.open(\"data/DSC_7476.jpg\")) #jpg or JPG doesn't matter"
   ]
  },
  {
   "cell_type": "code",
   "execution_count": 21,
   "metadata": {},
   "outputs": [],
   "source": [
    "e=np.asarray(Image.open(f\"data/{img_name}.jpg\")) #jpg or JPG doesn't matter"
   ]
  },
  {
   "cell_type": "code",
   "execution_count": 20,
   "metadata": {},
   "outputs": [
    {
     "data": {
      "text/plain": [
       "array([[[ 78,  85,  91],\n",
       "        [ 80,  87,  93],\n",
       "        [ 84,  91,  97],\n",
       "        ...,\n",
       "        [225, 222, 217],\n",
       "        [226, 223, 216],\n",
       "        [224, 220, 211]],\n",
       "\n",
       "       [[ 75,  80,  84],\n",
       "        [ 82,  87,  91],\n",
       "        [ 86,  91,  95],\n",
       "        ...,\n",
       "        [216, 213, 206],\n",
       "        [223, 219, 210],\n",
       "        [219, 215, 206]],\n",
       "\n",
       "       [[ 65,  69,  72],\n",
       "        [ 69,  73,  76],\n",
       "        [ 72,  77,  80],\n",
       "        ...,\n",
       "        [212, 208, 199],\n",
       "        [222, 215, 205],\n",
       "        [224, 217, 207]],\n",
       "\n",
       "       ...,\n",
       "\n",
       "       [[121, 107,  96],\n",
       "        [121, 107,  94],\n",
       "        [119, 106,  90],\n",
       "        ...,\n",
       "        [ 53,  53,  61],\n",
       "        [ 51,  51,  59],\n",
       "        [ 49,  49,  57]],\n",
       "\n",
       "       [[112,  98,  87],\n",
       "        [117, 103,  90],\n",
       "        [115, 102,  86],\n",
       "        ...,\n",
       "        [ 52,  52,  60],\n",
       "        [ 48,  51,  58],\n",
       "        [ 47,  50,  57]],\n",
       "\n",
       "       [[105,  91,  82],\n",
       "        [109,  95,  84],\n",
       "        [115, 101,  88],\n",
       "        ...,\n",
       "        [ 51,  54,  61],\n",
       "        [ 48,  51,  58],\n",
       "        [ 46,  49,  56]]], dtype=uint8)"
      ]
     },
     "execution_count": 20,
     "metadata": {},
     "output_type": "execute_result"
    }
   ],
   "source": [
    "e"
   ]
  },
  {
   "cell_type": "code",
   "execution_count": null,
   "metadata": {},
   "outputs": [],
   "source": []
  }
 ],
 "metadata": {
  "kernelspec": {
   "display_name": "Python 3",
   "language": "python",
   "name": "python3"
  },
  "language_info": {
   "codemirror_mode": {
    "name": "ipython",
    "version": 3
   },
   "file_extension": ".py",
   "mimetype": "text/x-python",
   "name": "python",
   "nbconvert_exporter": "python",
   "pygments_lexer": "ipython3",
   "version": "3.7.4"
  }
 },
 "nbformat": 4,
 "nbformat_minor": 2
}
