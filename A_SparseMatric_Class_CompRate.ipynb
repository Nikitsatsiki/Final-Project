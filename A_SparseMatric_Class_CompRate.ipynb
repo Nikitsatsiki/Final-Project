{
 "cells": [
  {
   "cell_type": "code",
   "execution_count": 1,
   "metadata": {},
   "outputs": [],
   "source": [
    "#sparse implementation vornehmen oder selbst schreiben:"
   ]
  },
  {
   "cell_type": "code",
   "execution_count": 11,
   "metadata": {},
   "outputs": [],
   "source": [
    "import numpy as np"
   ]
  },
  {
   "cell_type": "code",
   "execution_count": null,
   "metadata": {},
   "outputs": [],
   "source": [
    "#self.indices=[[],[],[]]\n",
    "#oder statt 3 für alle sizes veralgemeinern"
   ]
  },
  {
   "cell_type": "code",
   "execution_count": 44,
   "metadata": {},
   "outputs": [],
   "source": [
    "class SparseMatrix(object): #erbt #brauch 1-2 obj f indizes und 1 obj werte oder indizes in 1 array zsm\n",
    "    def __init__(self, img_dwt): #object. Punkt (könnte auch rumelumba schreiben) und die wavelet trafo f img\n",
    "        #img_dwt is numpy array of size x,y,3\n",
    "        self.size = img_dwt.shape #(object.shape[0],object.shape[1],object.shape[2])\n",
    "        self.indices = [[], [], []] #self.values[0] is rot #3 ist img_dwt.shape[2] self.indices=[]*3 dependenci problem\n",
    "        self.values = [[], [], []]\n",
    "        for colour in range(3):\n",
    "            for i in range(img_dwt.shape[0]):\n",
    "                for j in range(img_dwt.shape[1]):\n",
    "                    if img_dwt[i][j][colour] != 0:\n",
    "                        self.indices[colour].append((i,j))\n",
    "                        self.values[colour].append(img_dwt[i][j][colour])\n",
    "     #sparse matrix ist ein obj das hat indices und values, die wir benutzen können\n",
    "    def get_dense(self): #ist einobject der klasse also mache ich mat.get_dense(), immer von self muss der erste sein\n",
    "        output = np.zeros(self.size)\n",
    "        for colour in range(3):\n",
    "            for i in range(len(self.indices[colour])):\n",
    "                #for j in range(self.values[colour]):\n",
    "                output[self.indices[colour][i][0],self.indices[colour][i][1],colour]=self.values[colour][i]#self.values[colour][j]\n",
    "\n",
    "                    #output[i[0],i[1],colour] = j\n",
    "                    #achtung i und j snid integer!!!!!!\n",
    "       # for entry in self.entries:\n",
    "        #    output[entry[0],entry[1],entry[2]]=entry[3]\n",
    "        return output"
   ]
  },
  {
   "cell_type": "code",
   "execution_count": 45,
   "metadata": {},
   "outputs": [],
   "source": [
    "test_array=np.zeros((5,6,3))"
   ]
  },
  {
   "cell_type": "code",
   "execution_count": 46,
   "metadata": {},
   "outputs": [],
   "source": [
    "test_array[2,4,1]=5\n",
    "test_array[1,4,1]=5\n",
    "test_array[2,5,1]=5\n",
    "test_array[2,4,2]=5\n",
    "test_array[2,5,1]=5\n",
    "test_array[2,1,0]=5"
   ]
  },
  {
   "cell_type": "code",
   "execution_count": 47,
   "metadata": {},
   "outputs": [],
   "source": [
    "s=SparseMatrix(test_array)"
   ]
  },
  {
   "cell_type": "code",
   "execution_count": 49,
   "metadata": {},
   "outputs": [
    {
     "data": {
      "text/plain": [
       "True"
      ]
     },
     "execution_count": 49,
     "metadata": {},
     "output_type": "execute_result"
    }
   ],
   "source": [
    "np.array_equal(test_array,s.get_dense())"
   ]
  },
  {
   "cell_type": "code",
   "execution_count": null,
   "metadata": {},
   "outputs": [],
   "source": [
    "#fct f nullen ölschen\n",
    "#nach nah-null löschen: "
   ]
  },
  {
   "cell_type": "code",
   "execution_count": null,
   "metadata": {},
   "outputs": [],
   "source": [
    "#wrapper klasse"
   ]
  }
 ],
 "metadata": {
  "kernelspec": {
   "display_name": "Python 3",
   "language": "python",
   "name": "python3"
  },
  "language_info": {
   "codemirror_mode": {
    "name": "ipython",
    "version": 3
   },
   "file_extension": ".py",
   "mimetype": "text/x-python",
   "name": "python",
   "nbconvert_exporter": "python",
   "pygments_lexer": "ipython3",
   "version": "3.7.4"
  }
 },
 "nbformat": 4,
 "nbformat_minor": 2
}
