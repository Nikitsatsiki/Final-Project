{
 "cells": [
  {
   "cell_type": "code",
   "execution_count": 1,
   "metadata": {},
   "outputs": [],
   "source": [
    "import numpy as np\n",
    "import pandas as pd\n",
    "import os\n",
    "from PIL import Image\n",
    "import pywt\n",
    "import matplotlib.pyplot as plt"
   ]
  },
  {
   "cell_type": "code",
   "execution_count": 2,
   "metadata": {},
   "outputs": [],
   "source": [
    "#forest = Image.open('wald.jpg')\n",
    "#rgb_forest = forest.convert('RGB')\n",
    "data_forest = np.asarray(Image.open('wald.jpg'))\n",
    "#shape=data_forest.shape\n",
    "#shape[0]*shape[1]*shape[2]\n",
    "#shape[0]*shape[1]"
   ]
  },
  {
   "cell_type": "code",
   "execution_count": 3,
   "metadata": {},
   "outputs": [],
   "source": [
    "r = data_forest[:,:,0]\n",
    "g = data_forest[:,:,1]\n",
    "b = data_forest[:,:,2]"
   ]
  },
  {
   "cell_type": "code",
   "execution_count": 4,
   "metadata": {},
   "outputs": [],
   "source": [
    "coeff_r = pywt.dwt2(r, 'bior1.3')\n",
    "coeff_g = pywt.dwt2(g, 'bior1.3')\n",
    "coeff_b = pywt.dwt2(b, 'bior1.3')"
   ]
  },
  {
   "cell_type": "code",
   "execution_count": 8,
   "metadata": {},
   "outputs": [],
   "source": [
    "LL_r, (LH_r, HL_r, HH_r) = coeff_r\n",
    "LL_g, (LH_g, HL_g, HH_g) = coeff_g\n",
    "LL_b, (LH_b, HL_b, HH_b) = coeff_b\n",
    "\n",
    "#print(LH_r.shape)\n",
    "#print(HL_r.shape)\n",
    "#print(HH_r.shape)\n",
    "#print(LL_r.shape)"
   ]
  },
  {
   "cell_type": "code",
   "execution_count": 9,
   "metadata": {},
   "outputs": [],
   "source": [
    "nz_ll_r = np.count_nonzero(LL_r)\n",
    "nz_lh_r = np.count_nonzero(LH_r)\n",
    "nz_hl_r = np.count_nonzero(HL_r)\n",
    "nz_hh_r = np.count_nonzero(HH_r)"
   ]
  },
  {
   "cell_type": "code",
   "execution_count": 11,
   "metadata": {},
   "outputs": [],
   "source": [
    "LL_r_del = pywt.threshold(LL_r, 0.001, mode='greater', substitute=0)\n",
    "nz_ll_r_del = np.count_nonzero(LL_r_del)\n",
    "\n",
    "LH_r_del = pywt.threshold(LH_r, 0.001, mode='greater', substitute=0)\n",
    "nz_lh_r_del = np.count_nonzero(LH_r_del) \n",
    "\n",
    "HL_r_del = pywt.threshold(HL_r, 0.001, mode='greater', substitute=0)\n",
    "nz_hl_r_del = np.count_nonzero(HL_r_del)  \n",
    "\n",
    "HH_r_del = pywt.threshold(HH_r, 0.001, mode='greater', substitute=0)\n",
    "nz_hh_r_del = np.count_nonzero(HH_r_del) \n",
    "\n",
    "\n",
    "\n",
    "LL_g_del = pywt.threshold(LL_g, 0.001, mode='greater', substitute=0)\n",
    "nz_ll_g_del = np.count_nonzero(LL_g_del)\n",
    "\n",
    "LH_g_del = pywt.threshold(LH_g, 0.001, mode='greater', substitute=0)\n",
    "nz_lh_g_del = np.count_nonzero(LH_g_del) \n",
    "\n",
    "HL_g_del = pywt.threshold(HL_g, 0.001, mode='greater', substitute=0)\n",
    "nz_hl_g_del = np.count_nonzero(HL_g_del)  \n",
    "\n",
    "HH_g_del = pywt.threshold(HH_g, 0.001, mode='greater', substitute=0)\n",
    "nz_hh_g_del = np.count_nonzero(HH_g_del) \n",
    "\n",
    "\n",
    "\n",
    "LL_b_del = pywt.threshold(LL_b, 0.001, mode='greater', substitute=0)\n",
    "nz_ll_b_del = np.count_nonzero(LL_b_del)\n",
    "\n",
    "LH_b_del = pywt.threshold(LH_b, 0.001, mode='greater', substitute=0)\n",
    "nz_lh_b_del = np.count_nonzero(LH_b_del) \n",
    "\n",
    "HL_b_del = pywt.threshold(HL_b, 0.001, mode='greater', substitute=0)\n",
    "nz_hl_b_del = np.count_nonzero(HL_b_del)  \n",
    "\n",
    "HH_b_del = pywt.threshold(HH_b, 0.001, mode='greater', substitute=0)\n",
    "nz_hh_b_del = np.count_nonzero(HH_b_del) "
   ]
  },
  {
   "cell_type": "code",
   "execution_count": null,
   "metadata": {},
   "outputs": [],
   "source": [
    "r_inv=pywt.idwt2((LL_r_del,(LH_r_del,HL_r_del,HH_r_del)), 'bior1.3')  \n",
    "#fix, ax = plt.subplots(figsize=(10,10))\n",
    "#ax.imshow(r_inv,interpolation='nearest',cmap=plt.cm.gray);\n",
    "\n",
    "#plt.imshow(forest,interpolation='nearest',cmap=plt.cm.gray); \n",
    "\n",
    "#fig, ax = plt.subplots(figsize=(10, 10))\n",
    "#ax.imshow(forest,interpolation='nearest',cmap=plt.cm.gray);"
   ]
  },
  {
   "cell_type": "code",
   "execution_count": null,
   "metadata": {},
   "outputs": [],
   "source": [
    "#add back together to view and ggf safe und ratio"
   ]
  },
  {
   "cell_type": "code",
   "execution_count": null,
   "metadata": {},
   "outputs": [],
   "source": [
    "#alle 3 dann fct in r g b in ddan so do oder soo\n",
    "#compress done auch plotten kanten geeignete bilder ratio\n",
    "#was geht besser\n",
    "#noise ka\n",
    "#jpeg cosine\n",
    "#versch inputs bei wavelet zb haar\n",
    "#fcten k 1 big  r g b je und davor 1 2 3  und 1 big wo nur img name rein kommt?!"
   ]
  }
 ],
 "metadata": {
  "kernelspec": {
   "display_name": "Python 3",
   "language": "python",
   "name": "python3"
  },
  "language_info": {
   "codemirror_mode": {
    "name": "ipython",
    "version": 3
   },
   "file_extension": ".py",
   "mimetype": "text/x-python",
   "name": "python",
   "nbconvert_exporter": "python",
   "pygments_lexer": "ipython3",
   "version": "3.7.4"
  }
 },
 "nbformat": 4,
 "nbformat_minor": 2
}
