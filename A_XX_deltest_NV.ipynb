{
 "cells": [
  {
   "cell_type": "code",
   "execution_count": 1,
   "metadata": {},
   "outputs": [],
   "source": [
    "import numpy as np"
   ]
  },
  {
   "cell_type": "code",
   "execution_count": 4,
   "metadata": {},
   "outputs": [],
   "source": [
    "a=np.random.normal(0,1,(4,3,3))"
   ]
  },
  {
   "cell_type": "code",
   "execution_count": 5,
   "metadata": {},
   "outputs": [
    {
     "data": {
      "text/plain": [
       "array([[[ 0.19863436,  0.88120033, -0.36414532],\n",
       "        [-0.65721176, -0.32296881,  0.82762851],\n",
       "        [-1.1065651 ,  2.27178048, -0.41936017]],\n",
       "\n",
       "       [[ 0.89465118, -0.30793925,  0.04934808],\n",
       "        [ 0.0726369 , -0.20145212,  0.37285984],\n",
       "        [-0.50991933, -2.05836861,  0.47613282]],\n",
       "\n",
       "       [[ 0.12399761,  1.65511726,  0.93336511],\n",
       "        [-1.16651362,  0.25411973,  2.16583673],\n",
       "        [ 0.31784608,  0.83426174, -0.62569489]],\n",
       "\n",
       "       [[ 0.58666183,  0.40946748,  0.16351693],\n",
       "        [-1.44835407,  0.47557098, -1.57842557],\n",
       "        [ 0.23948281,  0.87536512, -0.10134804]]])"
      ]
     },
     "execution_count": 5,
     "metadata": {},
     "output_type": "execute_result"
    }
   ],
   "source": [
    "a"
   ]
  },
  {
   "cell_type": "code",
   "execution_count": null,
   "metadata": {},
   "outputs": [],
   "source": []
  }
 ],
 "metadata": {
  "kernelspec": {
   "display_name": "Python 3",
   "language": "python",
   "name": "python3"
  },
  "language_info": {
   "codemirror_mode": {
    "name": "ipython",
    "version": 3
   },
   "file_extension": ".py",
   "mimetype": "text/x-python",
   "name": "python",
   "nbconvert_exporter": "python",
   "pygments_lexer": "ipython3",
   "version": "3.7.4"
  }
 },
 "nbformat": 4,
 "nbformat_minor": 2
}
