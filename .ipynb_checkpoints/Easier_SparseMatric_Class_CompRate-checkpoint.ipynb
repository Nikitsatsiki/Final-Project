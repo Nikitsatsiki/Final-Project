{
 "cells": [
  {
   "cell_type": "code",
   "execution_count": 5,
   "metadata": {},
   "outputs": [],
   "source": [
    "import numpy as np"
   ]
  },
  {
   "cell_type": "code",
   "execution_count": 6,
   "metadata": {},
   "outputs": [],
   "source": [
    "class SparseMatrix(object):  \n",
    "    def __init__(self, dwt_comp):  \n",
    "        self.size = dwt_comp.shape \n",
    "        self.indices = []\n",
    "        self.values = []\n",
    "        for i in range(dwt_comp.shape[0]):\n",
    "            for j in range(dwt_comp.shape[1]):\n",
    "                if dwt_comp[i][j] != 0:\n",
    "                    self.indices.append((i,j))\n",
    "                    self.values.append(dwt_comp[i][j])\n",
    "    def get_dense(self):  \n",
    "        output = np.zeros(self.size)\n",
    "        for i in range(len(self.indices)):\n",
    "            output[self.indices[i][0],self.indices[i][1]]=self.values[i]                    \n",
    "        return output"
   ]
  },
  {
   "cell_type": "code",
   "execution_count": 7,
   "metadata": {},
   "outputs": [],
   "source": [
    "test_array=np.zeros((5,6))"
   ]
  },
  {
   "cell_type": "code",
   "execution_count": 8,
   "metadata": {},
   "outputs": [],
   "source": [
    "test_array[2,4]=5\n",
    "test_array[1,4]=5\n",
    "test_array[2,5]=5\n",
    "test_array[2,4]=5\n",
    "test_array[2,5]=5\n",
    "test_array[2,1]=5"
   ]
  },
  {
   "cell_type": "code",
   "execution_count": 9,
   "metadata": {},
   "outputs": [],
   "source": [
    "s=SparseMatrix(test_array)"
   ]
  },
  {
   "cell_type": "code",
   "execution_count": 10,
   "metadata": {},
   "outputs": [
    {
     "data": {
      "text/plain": [
       "True"
      ]
     },
     "execution_count": 10,
     "metadata": {},
     "output_type": "execute_result"
    }
   ],
   "source": [
    "np.array_equal(test_array,s.get_dense())"
   ]
  }
 ],
 "metadata": {
  "kernelspec": {
   "display_name": "Python 3",
   "language": "python",
   "name": "python3"
  },
  "language_info": {
   "codemirror_mode": {
    "name": "ipython",
    "version": 3
   },
   "file_extension": ".py",
   "mimetype": "text/x-python",
   "name": "python",
   "nbconvert_exporter": "python",
   "pygments_lexer": "ipython3",
   "version": "3.7.4"
  }
 },
 "nbformat": 4,
 "nbformat_minor": 2
}
