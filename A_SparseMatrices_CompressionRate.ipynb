{
 "cells": [
  {
   "cell_type": "code",
   "execution_count": 1,
   "metadata": {},
   "outputs": [],
   "source": [
    "import numpy as np\n",
    "import pandas as pd\n",
    "import os\n",
    "from PIL import Image\n",
    "import pywt\n",
    "import matplotlib.pyplot as plt\n",
    "%matplotlib inline\n",
    "import SparseMatrix"
   ]
  },
  {
   "cell_type": "code",
   "execution_count": 2,
   "metadata": {},
   "outputs": [],
   "source": [
    "img_name = \"DSC00297\""
   ]
  },
  {
   "cell_type": "code",
   "execution_count": 5,
   "metadata": {},
   "outputs": [],
   "source": [
    "my_img = np.asarray(Image.open(f\"data/{img_name}.jpg\"))"
   ]
  },
  {
   "cell_type": "code",
   "execution_count": 6,
   "metadata": {},
   "outputs": [],
   "source": [
    "values_before=my_img.shape[0]*my_img.shape[1]*my_img.shape[2]"
   ]
  },
  {
   "cell_type": "code",
   "execution_count": 7,
   "metadata": {},
   "outputs": [
    {
     "data": {
      "text/plain": [
       "40421376"
      ]
     },
     "execution_count": 7,
     "metadata": {},
     "output_type": "execute_result"
    }
   ],
   "source": [
    "values_before"
   ]
  },
  {
   "cell_type": "code",
   "execution_count": null,
   "metadata": {},
   "outputs": [],
   "source": [
    "#probiere l so lassen oder net"
   ]
  },
  {
   "cell_type": "code",
   "execution_count": null,
   "metadata": {},
   "outputs": [],
   "source": [
    "#lambda und apply ohne DF?\n",
    "#verschiedene inputs und names ?!\n",
    "#auf alle dense anwenden?!"
   ]
  },
  {
   "cell_type": "code",
   "execution_count": null,
   "metadata": {},
   "outputs": [],
   "source": [
    "#try to keep below 0.01\n",
    "#sogar 0.1"
   ]
  },
  {
   "cell_type": "code",
   "execution_count": 50,
   "metadata": {},
   "outputs": [],
   "source": [
    "r = my_img[:,:,0]\n",
    "g = my_img[:,:,1]\n",
    "b = my_img[:,:,2]\n",
    "\n",
    "coeff_r = pywt.dwt2(r, 'bior1.3')\n",
    "coeff_g = pywt.dwt2(g, 'bior1.3')\n",
    "coeff_b = pywt.dwt2(b, 'bior1.3')\n",
    "\n",
    "LL_r, (LH_r, HL_r, HH_r) = coeff_r\n",
    "LL_g, (LH_g, HL_g, HH_g) = coeff_g\n",
    "LL_b, (LH_b, HL_b, HH_b) = coeff_b\n",
    "\n",
    "\n",
    "LL_r_del = pywt.threshold(LL_r, 0.1, mode='greater', substitute=0)\n",
    "LH_r_del = pywt.threshold(LH_r, 0.1, mode='greater', substitute=0)\n",
    "HL_r_del = pywt.threshold(HL_r, 0.1, mode='greater', substitute=0)\n",
    "HH_r_del = pywt.threshold(HH_r, 0.1, mode='greater', substitute=0)\n",
    "\n",
    "\n",
    "LL_g_del = pywt.threshold(LL_g, 0.1, mode='greater', substitute=0)\n",
    "LH_g_del = pywt.threshold(LH_g, 0.1, mode='greater', substitute=0)\n",
    "HL_g_del = pywt.threshold(HL_g, 0.1, mode='greater', substitute=0)\n",
    "HH_g_del = pywt.threshold(HH_g, 0.1, mode='greater', substitute=0)\n",
    "\n",
    "\n",
    "LL_b_del = pywt.threshold(LL_b, 0.1, mode='greater', substitute=0)\n",
    "LH_b_del = pywt.threshold(LH_b, 0.1, mode='greater', substitute=0)\n",
    "HL_b_del = pywt.threshold(HL_b, 0.1, mode='greater', substitute=0)\n",
    "HH_b_del = pywt.threshold(HH_b, 0.1, mode='greater', substitute=0)"
   ]
  },
  {
   "cell_type": "code",
   "execution_count": 51,
   "metadata": {},
   "outputs": [],
   "source": [
    "LL_r_s=SparseMatrix.SparseMatrix(LL_r_del)\n",
    "LH_r_s=SparseMatrix.SparseMatrix(LH_r_del)\n",
    "HL_r_s=SparseMatrix.SparseMatrix(HL_r_del)\n",
    "HH_r_s=SparseMatrix.SparseMatrix(HH_r_del)\n",
    "\n",
    "LL_g_s=SparseMatrix.SparseMatrix(LL_g_del)\n",
    "LH_g_s=SparseMatrix.SparseMatrix(LH_g_del)\n",
    "HL_g_s=SparseMatrix.SparseMatrix(HL_g_del)\n",
    "HH_g_s=SparseMatrix.SparseMatrix(HH_g_del)\n",
    "\n",
    "LL_b_s=SparseMatrix.SparseMatrix(LL_b_del)\n",
    "LH_b_s=SparseMatrix.SparseMatrix(LH_b_del)\n",
    "HL_b_s=SparseMatrix.SparseMatrix(HL_b_del)\n",
    "HH_b_s=SparseMatrix.SparseMatrix(HH_b_del)"
   ]
  },
  {
   "cell_type": "code",
   "execution_count": 52,
   "metadata": {},
   "outputs": [
    {
     "data": {
      "text/plain": [
       "3376100"
      ]
     },
     "execution_count": 52,
     "metadata": {},
     "output_type": "execute_result"
    }
   ],
   "source": [
    "LH_r_del.size"
   ]
  },
  {
   "cell_type": "code",
   "execution_count": 53,
   "metadata": {},
   "outputs": [
    {
     "data": {
      "text/plain": [
       "3376100"
      ]
     },
     "execution_count": 53,
     "metadata": {},
     "output_type": "execute_result"
    }
   ],
   "source": [
    "LH_r.size"
   ]
  },
  {
   "cell_type": "code",
   "execution_count": 56,
   "metadata": {},
   "outputs": [
    {
     "data": {
      "text/plain": [
       "4204425"
      ]
     },
     "execution_count": 56,
     "metadata": {},
     "output_type": "execute_result"
    }
   ],
   "source": [
    "len(LH_r_s.values)*3"
   ]
  },
  {
   "cell_type": "code",
   "execution_count": 55,
   "metadata": {},
   "outputs": [
    {
     "data": {
      "text/plain": [
       "1401475"
      ]
     },
     "execution_count": 55,
     "metadata": {},
     "output_type": "execute_result"
    }
   ],
   "source": [
    "np.count_nonzero(LH_r_del)"
   ]
  },
  {
   "cell_type": "code",
   "execution_count": null,
   "metadata": {},
   "outputs": [],
   "source": [
    "#size shape "
   ]
  },
  {
   "cell_type": "code",
   "execution_count": 46,
   "metadata": {},
   "outputs": [
    {
     "data": {
      "text/plain": [
       "3376100"
      ]
     },
     "execution_count": 46,
     "metadata": {},
     "output_type": "execute_result"
    }
   ],
   "source": [
    "LL_r.size"
   ]
  },
  {
   "cell_type": "code",
   "execution_count": 47,
   "metadata": {},
   "outputs": [
    {
     "data": {
      "text/plain": [
       "(1378, 2450)"
      ]
     },
     "execution_count": 47,
     "metadata": {},
     "output_type": "execute_result"
    }
   ],
   "source": [
    "LL_r_s.size"
   ]
  },
  {
   "cell_type": "code",
   "execution_count": 26,
   "metadata": {
    "scrolled": true
   },
   "outputs": [
    {
     "data": {
      "text/plain": [
       "3376100"
      ]
     },
     "execution_count": 26,
     "metadata": {},
     "output_type": "execute_result"
    }
   ],
   "source": [
    "1378*2450"
   ]
  },
  {
   "cell_type": "code",
   "execution_count": null,
   "metadata": {},
   "outputs": [],
   "source": [
    "#hardtreshold"
   ]
  },
  {
   "cell_type": "code",
   "execution_count": null,
   "metadata": {},
   "outputs": [],
   "source": [
    "#welches wavelet"
   ]
  }
 ],
 "metadata": {
  "kernelspec": {
   "display_name": "Python 3",
   "language": "python",
   "name": "python3"
  },
  "language_info": {
   "codemirror_mode": {
    "name": "ipython",
    "version": 3
   },
   "file_extension": ".py",
   "mimetype": "text/x-python",
   "name": "python",
   "nbconvert_exporter": "python",
   "pygments_lexer": "ipython3",
   "version": "3.7.4"
  }
 },
 "nbformat": 4,
 "nbformat_minor": 2
}
